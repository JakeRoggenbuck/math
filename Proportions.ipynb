{
 "cells": [
  {
   "cell_type": "code",
   "execution_count": 4,
   "id": "529d5b7a",
   "metadata": {},
   "outputs": [
    {
     "name": "stdout",
     "output_type": "stream",
     "text": [
      "1.875\n",
      "5.75\n",
      "4.375\n"
     ]
    }
   ],
   "source": [
    "group_1 = 15\n",
    "group_2 = 46\n",
    "group_3 = 35\n",
    "\n",
    "total = group_1 + group_2 + group_3\n",
    "\n",
    "amount_wanted = 12\n",
    "\n",
    "proportion_1 = (group_1 / total) * amount_wanted\n",
    "proportion_2 = (group_2 / total) * amount_wanted\n",
    "proportion_3 = (group_3 / total) * amount_wanted\n",
    "\n",
    "println(proportion_1)\n",
    "println(proportion_2)\n",
    "println(proportion_3)"
   ]
  },
  {
   "cell_type": "code",
   "execution_count": null,
   "id": "c925fc8c",
   "metadata": {},
   "outputs": [],
   "source": []
  }
 ],
 "metadata": {
  "kernelspec": {
   "display_name": "Julia 1.6.2",
   "language": "julia",
   "name": "julia-1.6"
  },
  "language_info": {
   "file_extension": ".jl",
   "mimetype": "application/julia",
   "name": "julia",
   "version": "1.6.2"
  }
 },
 "nbformat": 4,
 "nbformat_minor": 5
}
