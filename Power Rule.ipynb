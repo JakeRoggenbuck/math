{
 "cells": [
  {
   "cell_type": "code",
   "execution_count": 19,
   "id": "f72f75ae-2cf7-4f97-84f4-27873099849b",
   "metadata": {},
   "outputs": [
    {
     "name": "stdout",
     "output_type": "stream",
     "text": [
      "The output for f(x) when x is  2 is 16\n",
      "The output for fp(x) when x is  2 is 32\n"
     ]
    },
    {
     "data": {
      "text/plain": [
       "gp (generic function with 1 method)"
      ]
     },
     "execution_count": 19,
     "metadata": {},
     "output_type": "execute_result"
    }
   ],
   "source": [
    "# Power Rule\n",
    "\n",
    "# Example of power rule\n",
    "f(x) = x^4\n",
    "fp(x) = 4x^3\n",
    "\n",
    "c = 2\n",
    "\n",
    "println(\"The output for f(x) when x is  \", c, \" is \", f(c));\n",
    "println(\"The output for fp(x) when x is  \", c, \" is \", fp(c));\n",
    "\n",
    "# Here is the generic formula for the Power Rule\n",
    "g(x) = x^n\n",
    "gp(x) = nx ^ (n - 1)"
   ]
  },
  {
   "cell_type": "code",
   "execution_count": 20,
   "id": "f0bb0245-19c3-4fe3-b893-4d81db00eef9",
   "metadata": {},
   "outputs": [
    {
     "name": "stdout",
     "output_type": "stream",
     "text": [
      "The output for h(x) when x is  2 is 16\n",
      "The output for hp(x) when x is  2 is 32\n"
     ]
    }
   ],
   "source": [
    "# The same function as f(x)\n",
    "h(x) = x^4\n",
    "\n",
    "# The expanded version of fp(x) using the formula from gp(x)\n",
    "hp(x) = 4x ^ (4 - 1)\n",
    "\n",
    "println(\"The output for h(x) when x is  \", c, \" is \", h(c));\n",
    "println(\"The output for hp(x) when x is  \", c, \" is \", hp(c));"
   ]
  },
  {
   "cell_type": "code",
   "execution_count": null,
   "id": "ddbb395b-cf28-4659-b2a5-92d60a8f9e6c",
   "metadata": {},
   "outputs": [],
   "source": []
  }
 ],
 "metadata": {
  "kernelspec": {
   "display_name": "Julia 1.4.1",
   "language": "julia",
   "name": "julia-1.4"
  },
  "language_info": {
   "file_extension": ".jl",
   "mimetype": "application/julia",
   "name": "julia",
   "version": "1.4.1"
  }
 },
 "nbformat": 4,
 "nbformat_minor": 5
}
