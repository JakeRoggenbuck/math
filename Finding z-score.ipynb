{
 "cells": [
  {
   "cell_type": "code",
   "execution_count": 17,
   "id": "42f9a55d",
   "metadata": {},
   "outputs": [
    {
     "data": {
      "text/plain": [
       "2.6250541119963775"
      ]
     },
     "execution_count": 17,
     "metadata": {},
     "output_type": "execute_result"
    }
   ],
   "source": [
    "using Statistics\n",
    "\n",
    "data = sort([0, 2, 3, 4, 5, 5, 5, 6, 7, 8, 9])\n",
    "\n",
    "x = length(data)\n",
    "μ = mean(data)\n",
    "σ = sqrt(sum([(v-μ)^2 for v in data ]) / (x-1))"
   ]
  },
  {
   "cell_type": "code",
   "execution_count": 20,
   "id": "a7569fb2",
   "metadata": {},
   "outputs": [
    {
     "data": {
      "text/plain": [
       "2.320298489495479"
      ]
     },
     "execution_count": 20,
     "metadata": {},
     "output_type": "execute_result"
    }
   ],
   "source": [
    "z = (x - μ) / σ"
   ]
  },
  {
   "cell_type": "code",
   "execution_count": null,
   "id": "d538e129",
   "metadata": {},
   "outputs": [],
   "source": []
  }
 ],
 "metadata": {
  "kernelspec": {
   "display_name": "Julia 1.4.1",
   "language": "julia",
   "name": "julia-1.4"
  },
  "language_info": {
   "file_extension": ".jl",
   "mimetype": "application/julia",
   "name": "julia",
   "version": "1.4.1"
  }
 },
 "nbformat": 4,
 "nbformat_minor": 5
}
