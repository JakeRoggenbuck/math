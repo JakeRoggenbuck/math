{
 "cells": [
  {
   "cell_type": "code",
   "execution_count": 7,
   "id": "798b9295",
   "metadata": {},
   "outputs": [
    {
     "data": {
      "text/plain": [
       "12-element Array{Int64,1}:\n",
       "  0\n",
       "  2\n",
       "  3\n",
       "  4\n",
       "  5\n",
       "  5\n",
       "  5\n",
       "  6\n",
       "  7\n",
       "  8\n",
       "  9\n",
       " 11"
      ]
     },
     "execution_count": 7,
     "metadata": {},
     "output_type": "execute_result"
    }
   ],
   "source": [
    "data = sort([0, 2, 3, 4, 5, 5, 5, 6, 7, 8, 9, 11])"
   ]
  },
  {
   "cell_type": "code",
   "execution_count": 8,
   "id": "c5358d01",
   "metadata": {},
   "outputs": [
    {
     "data": {
      "text/plain": [
       "5.416666666666667"
      ]
     },
     "execution_count": 8,
     "metadata": {},
     "output_type": "execute_result"
    },
    {
     "name": "stderr",
     "output_type": "stream",
     "text": [
      "\n",
      "signal (15): Terminated\n",
      "in expression starting at /home/jake/.julia/packages/IJulia/e8kqU/src/kernel.jl:53\n",
      "epoll_pwait at /usr/bin/../lib/x86_64-linux-gnu/libc.so.6 (unknown line)\n",
      "uv__io_poll at /usr/bin/../lib/x86_64-linux-gnu/libjulia.so.1 (unknown line)\n",
      "uv_run at /usr/bin/../lib/x86_64-linux-gnu/libjulia.so.1 (unknown line)\n",
      "jl_task_get_next at /usr/bin/../lib/x86_64-linux-gnu/libjulia.so.1 (unknown line)\n"
     ]
    }
   ],
   "source": [
    "x̄ = sum(data) / length(data)"
   ]
  },
  {
   "cell_type": "code",
   "execution_count": null,
   "id": "e84c3bfb",
   "metadata": {},
   "outputs": [],
   "source": []
  }
 ],
 "metadata": {
  "kernelspec": {
   "display_name": "Julia 1.4.1",
   "language": "julia",
   "name": "julia-1.4"
  },
  "language_info": {
   "file_extension": ".jl",
   "mimetype": "application/julia",
   "name": "julia",
   "version": "1.4.1"
  }
 },
 "nbformat": 4,
 "nbformat_minor": 5
}
