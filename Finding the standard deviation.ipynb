{
 "cells": [
  {
   "cell_type": "code",
   "execution_count": 1,
   "id": "ab500f68",
   "metadata": {},
   "outputs": [],
   "source": [
    "using Statistics"
   ]
  },
  {
   "cell_type": "code",
   "execution_count": 2,
   "id": "376b4a28",
   "metadata": {},
   "outputs": [
    {
     "data": {
      "text/plain": [
       "11-element Array{Int64,1}:\n",
       " 0\n",
       " 2\n",
       " 3\n",
       " 4\n",
       " 5\n",
       " 5\n",
       " 5\n",
       " 6\n",
       " 7\n",
       " 8\n",
       " 9"
      ]
     },
     "execution_count": 2,
     "metadata": {},
     "output_type": "execute_result"
    }
   ],
   "source": [
    "data = sort([0, 2, 3, 4, 5, 5, 5, 6, 7, 8, 9])"
   ]
  },
  {
   "cell_type": "code",
   "execution_count": 3,
   "id": "67f29647",
   "metadata": {},
   "outputs": [
    {
     "data": {
      "text/plain": [
       "5"
      ]
     },
     "execution_count": 3,
     "metadata": {},
     "output_type": "execute_result"
    }
   ],
   "source": [
    "# Five-number summary (three of them)\n",
    "data_max = maximum(data)\n",
    "data_min = minimum(data)\n",
    "data_median = median(data)\n",
    "μ = mean(data)\n",
    "\n",
    "\n",
    "data_len = length(data)\n",
    "\n",
    "# Get half the size of the data\n",
    "sub_data_len = div(data_len, 2)"
   ]
  },
  {
   "cell_type": "code",
   "execution_count": 4,
   "id": "ed42d511",
   "metadata": {},
   "outputs": [
    {
     "data": {
      "text/plain": [
       "11"
      ]
     },
     "execution_count": 4,
     "metadata": {},
     "output_type": "execute_result"
    }
   ],
   "source": [
    "# Get starts and ends for the quartiles\n",
    "start_q1 = 1\n",
    "end_q1 = sub_data_len\n",
    " \n",
    "start_q3 = data_len - sub_data_len + 1\n",
    "end_q3 = data_len"
   ]
  },
  {
   "cell_type": "code",
   "execution_count": 5,
   "id": "f71cfda7",
   "metadata": {},
   "outputs": [
    {
     "data": {
      "text/plain": [
       "7.0"
      ]
     },
     "execution_count": 5,
     "metadata": {},
     "output_type": "execute_result"
    }
   ],
   "source": [
    "# The other two of the five-number summery\n",
    "Q1 = median(view(data, start_q1:end_q1))\n",
    "Q3 = median(view(data, start_q3:end_q3))"
   ]
  },
  {
   "cell_type": "code",
   "execution_count": 6,
   "id": "1c7f2bed",
   "metadata": {},
   "outputs": [
    {
     "data": {
      "text/plain": [
       "4.0"
      ]
     },
     "execution_count": 6,
     "metadata": {},
     "output_type": "execute_result"
    }
   ],
   "source": [
    "# The interquartile range\n",
    "IQR = Q3 - Q1"
   ]
  },
  {
   "cell_type": "code",
   "execution_count": 9,
   "id": "f5d65fc8",
   "metadata": {},
   "outputs": [
    {
     "name": "stdout",
     "output_type": "stream",
     "text": [
      "68.9090909090909\n",
      "2.6250541119963775\n"
     ]
    }
   ],
   "source": [
    "# The sum of (each item - the mean) ^ 2\n",
    "Σ = sum([ (v-μ)^2 for v in data ])\n",
    "\n",
    "# The \n",
    "σ = sqrt(Σ / (data_len-1))\n",
    "\n",
    "println(Σ)\n",
    "println(σ)"
   ]
  },
  {
   "cell_type": "code",
   "execution_count": null,
   "id": "0f270680",
   "metadata": {},
   "outputs": [],
   "source": []
  }
 ],
 "metadata": {
  "kernelspec": {
   "display_name": "Julia 1.4.1",
   "language": "julia",
   "name": "julia-1.4"
  },
  "language_info": {
   "file_extension": ".jl",
   "mimetype": "application/julia",
   "name": "julia",
   "version": "1.4.1"
  }
 },
 "nbformat": 4,
 "nbformat_minor": 5
}
