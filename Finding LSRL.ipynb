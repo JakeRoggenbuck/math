{
 "cells": [
  {
   "cell_type": "code",
   "execution_count": 25,
   "id": "2b531b65",
   "metadata": {},
   "outputs": [],
   "source": [
    "using Printf"
   ]
  },
  {
   "cell_type": "code",
   "execution_count": 29,
   "id": "7e0fb2c2",
   "metadata": {},
   "outputs": [
    {
     "name": "stdout",
     "output_type": "stream",
     "text": [
      "ŷ = -40.78 +(9.72)x"
     ]
    }
   ],
   "source": [
    "sy = 177.6;\n",
    "sx = 14.8;\n",
    "r = 0.81;\n",
    "\n",
    "ȳ = 696;\n",
    "x̄ = 75.8;\n",
    "\n",
    "b = r * (sy / sx);\n",
    "a = ȳ - (b * x̄);\n",
    "\n",
    "@printf(\"ŷ = %.2f +(%.2f)x\", a, b);"
   ]
  },
  {
   "cell_type": "code",
   "execution_count": null,
   "id": "3a2322a7",
   "metadata": {},
   "outputs": [],
   "source": []
  }
 ],
 "metadata": {
  "kernelspec": {
   "display_name": "Julia 1.6.2",
   "language": "julia",
   "name": "julia-1.6"
  },
  "language_info": {
   "file_extension": ".jl",
   "mimetype": "application/julia",
   "name": "julia",
   "version": "1.6.2"
  }
 },
 "nbformat": 4,
 "nbformat_minor": 5
}
